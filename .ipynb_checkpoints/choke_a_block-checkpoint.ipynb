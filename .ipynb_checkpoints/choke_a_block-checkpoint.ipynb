{
 "cells": [
  {
   "cell_type": "code",
   "execution_count": 2,
   "metadata": {
    "collapsed": false
   },
   "outputs": [
    {
     "name": "stderr",
     "output_type": "stream",
     "text": [
      "2016-04-18 12:09:03,844 - StockFighterApi - DEBUG - https://api.stockfighter.io/ob/api/venues/FHVEX/stocks\n",
      "2016-04-18 12:09:03,844 - StockFighterApi - DEBUG - https://api.stockfighter.io/ob/api/venues/FHVEX/stocks\n",
      "2016-04-18 12:09:04,496 - StockFighterApi - ERROR - Couldn't get stocks for venue FHVEX: No venue exists with the symbol FHVEX\n",
      "2016-04-18 12:09:04,496 - StockFighterApi - ERROR - Couldn't get stocks for venue FHVEX: No venue exists with the symbol FHVEX\n"
     ]
    },
    {
     "ename": "KeyError",
     "evalue": "'symbols'",
     "output_type": "error",
     "traceback": [
      "\u001b[1;31m---------------------------------------------------------------------------\u001b[0m",
      "\u001b[1;31mKeyError\u001b[0m                                  Traceback (most recent call last)",
      "\u001b[1;32m<ipython-input-2-4adcc2fc3d9e>\u001b[0m in \u001b[0;36m<module>\u001b[1;34m()\u001b[0m\n\u001b[0;32m     10\u001b[0m \u001b[1;33m\u001b[0m\u001b[0m\n\u001b[0;32m     11\u001b[0m \u001b[0mjson\u001b[0m \u001b[1;33m=\u001b[0m \u001b[0mapi\u001b[0m\u001b[1;33m.\u001b[0m\u001b[0mvenue_stocks\u001b[0m\u001b[1;33m(\u001b[0m\u001b[0mvenue\u001b[0m\u001b[1;33m)\u001b[0m\u001b[1;33m\u001b[0m\u001b[0m\n\u001b[1;32m---> 12\u001b[1;33m \u001b[0mtarget_stock\u001b[0m \u001b[1;33m=\u001b[0m \u001b[0mjson\u001b[0m\u001b[1;33m[\u001b[0m\u001b[1;34m'symbols'\u001b[0m\u001b[1;33m]\u001b[0m\u001b[1;33m[\u001b[0m\u001b[1;36m0\u001b[0m\u001b[1;33m]\u001b[0m\u001b[1;33m[\u001b[0m\u001b[1;34m'symbol'\u001b[0m\u001b[1;33m]\u001b[0m\u001b[1;33m\u001b[0m\u001b[0m\n\u001b[0m\u001b[0;32m     13\u001b[0m \u001b[0mjson\u001b[0m \u001b[1;33m=\u001b[0m \u001b[0mapi\u001b[0m\u001b[1;33m.\u001b[0m\u001b[0mstock_quote\u001b[0m\u001b[1;33m(\u001b[0m\u001b[0mvenue\u001b[0m\u001b[1;33m,\u001b[0m \u001b[0mtarget_stock\u001b[0m\u001b[1;33m)\u001b[0m\u001b[1;33m\u001b[0m\u001b[0m\n\u001b[0;32m     14\u001b[0m \u001b[1;33m\u001b[0m\u001b[0m\n",
      "\u001b[1;31mKeyError\u001b[0m: 'symbols'"
     ]
    }
   ],
   "source": [
    "from Stockfighter.Api import StockFighterApi\n",
    "import logging\n",
    "\n",
    "api_key = '267658536e6b6eaa862c6b73ecb2cc7a86e795cb'\n",
    "log_level = logging.DEBUG\n",
    "api = StockFighterApi(api_key, log_level)\n",
    "\n",
    "my_account = \"MB16393436\"\n",
    "venue = \"YPHKEX\"\n",
    "\n",
    "json = api.venue_stocks(venue)\n",
    "target_stock = json['symbols'][0]['symbol']\n",
    "json = api.stock_quote(venue, target_stock)\n",
    "\n",
    "\n",
    "\n",
    "# total = 0\n",
    "\n",
    "# while total < 1000:\n",
    "# \tprice = json['bid'] - 1\n",
    "# \tquantity = 10\n",
    "# \tjson = api.stock_order(venue, my_account, target_stock, price - 1000, quantity, 'buy', 'limit')\n",
    "# \ttotal += 10\n",
    "# \tprint(total)\n",
    "\n",
    "# \tjson = api.stock_quote(venue, target_stock)"
   ]
  },
  {
   "cell_type": "code",
   "execution_count": null,
   "metadata": {
    "collapsed": true
   },
   "outputs": [],
   "source": []
  }
 ],
 "metadata": {
  "kernelspec": {
   "display_name": "Python 3",
   "language": "python",
   "name": "python3"
  },
  "language_info": {
   "codemirror_mode": {
    "name": "ipython",
    "version": 3
   },
   "file_extension": ".py",
   "mimetype": "text/x-python",
   "name": "python",
   "nbconvert_exporter": "python",
   "pygments_lexer": "ipython3",
   "version": "3.4.3"
  }
 },
 "nbformat": 4,
 "nbformat_minor": 0
}
