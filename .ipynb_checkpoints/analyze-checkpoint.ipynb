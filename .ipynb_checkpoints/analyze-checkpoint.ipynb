{
 "cells": [
  {
   "cell_type": "code",
   "execution_count": 10,
   "metadata": {
    "collapsed": false
   },
   "outputs": [
    {
     "name": "stderr",
     "output_type": "stream",
     "text": [
      "2016-04-22 15:55:27,920 - StockFighterApi - DEBUG - https://api.stockfighter.io/ob/api/venues/YNHDEX/stocks\n",
      "2016-04-22 15:55:27,920 - StockFighterApi - DEBUG - https://api.stockfighter.io/ob/api/venues/YNHDEX/stocks\n",
      "2016-04-22 15:55:28,228 - StockFighterApi - DEBUG - https://api.stockfighter.io/ob/api/venues/YNHDEX/stocks/ARA/quote\n",
      "2016-04-22 15:55:28,228 - StockFighterApi - DEBUG - https://api.stockfighter.io/ob/api/venues/YNHDEX/stocks/ARA/quote\n"
     ]
    },
    {
     "ename": "TypeError",
     "evalue": "append() missing 1 required positional argument: 'values'",
     "output_type": "error",
     "traceback": [
      "\u001b[1;31m---------------------------------------------------------------------------\u001b[0m",
      "\u001b[1;31mTypeError\u001b[0m                                 Traceback (most recent call last)",
      "\u001b[1;32m<ipython-input-10-b3d5a08c42ff>\u001b[0m in \u001b[0;36m<module>\u001b[1;34m()\u001b[0m\n\u001b[0;32m     25\u001b[0m \u001b[1;32mwhile\u001b[0m \u001b[0mcount\u001b[0m \u001b[1;33m<\u001b[0m \u001b[1;36m20\u001b[0m\u001b[1;33m:\u001b[0m\u001b[1;33m\u001b[0m\u001b[0m\n\u001b[0;32m     26\u001b[0m     \u001b[0mjson\u001b[0m \u001b[1;33m=\u001b[0m \u001b[0mapi\u001b[0m\u001b[1;33m.\u001b[0m\u001b[0mstock_quote\u001b[0m\u001b[1;33m(\u001b[0m\u001b[0mvenue\u001b[0m\u001b[1;33m,\u001b[0m \u001b[0mtarget_stock\u001b[0m\u001b[1;33m)\u001b[0m\u001b[1;33m\u001b[0m\u001b[0m\n\u001b[1;32m---> 27\u001b[1;33m     \u001b[0mlast\u001b[0m \u001b[1;33m=\u001b[0m \u001b[0mnp\u001b[0m\u001b[1;33m.\u001b[0m\u001b[0mappend\u001b[0m\u001b[1;33m(\u001b[0m\u001b[0mjson\u001b[0m\u001b[1;33m[\u001b[0m\u001b[1;34m'last'\u001b[0m\u001b[1;33m]\u001b[0m\u001b[1;33m)\u001b[0m\u001b[1;33m\u001b[0m\u001b[0m\n\u001b[0m\u001b[0;32m     28\u001b[0m     \u001b[0mjson\u001b[0m \u001b[1;33m=\u001b[0m \u001b[0mapi\u001b[0m\u001b[1;33m.\u001b[0m\u001b[0maccount_stock_orders\u001b[0m\u001b[1;33m(\u001b[0m\u001b[0mvenue\u001b[0m\u001b[1;33m,\u001b[0m \u001b[0mmy_account\u001b[0m\u001b[1;33m,\u001b[0m \u001b[0mtarget_stock\u001b[0m\u001b[1;33m)\u001b[0m\u001b[1;33m\u001b[0m\u001b[0m\n\u001b[0;32m     29\u001b[0m     \u001b[1;32mif\u001b[0m \u001b[0mjson\u001b[0m\u001b[1;33m[\u001b[0m\u001b[1;34m'bids'\u001b[0m\u001b[1;33m]\u001b[0m\u001b[1;33m:\u001b[0m\u001b[1;33m\u001b[0m\u001b[0m\n",
      "\u001b[1;31mTypeError\u001b[0m: append() missing 1 required positional argument: 'values'"
     ]
    }
   ],
   "source": [
    "%matplotlib inline\n",
    "import matplotlib.pyplot as plt\n",
    "import numpy as np\n",
    "\n",
    "from Stockfighter.Api import StockFighterApi\n",
    "import logging\n",
    "import time\n",
    "import math\n",
    "\n",
    "api_key = '267658536e6b6eaa862c6b73ecb2cc7a86e795cb'\n",
    "log_level = logging.DEBUG\n",
    "api = StockFighterApi(api_key, log_level)\n",
    "\n",
    "my_account = \"KBK68955331\" # CHANGE\n",
    "venue = \"YNHDEX\" # CHANGE\n",
    "json = api.venue_stocks(venue)\n",
    "target_stock = json['symbols'][0]['symbol']\n",
    "\n",
    "best_bids = np.array([])\n",
    "best_asks = np.array([])\n",
    "last = np.array([])\n",
    "\n",
    "count = 0\n",
    "\n",
    "while count < 20:\n",
    "    json = api.stock_quote(venue, target_stock)\n",
    "    last = np.append(json['last'])\n",
    "    \n",
    "    json = api.account_stock_orders(venue, my_account, target_stock)\n",
    "    if json['bids']:\n",
    "        best_bids = np.append(json['bids'][0]['price'])\n",
    "    else:\n",
    "        best_bids = np.append(0)\n",
    "    if json['asks']:\n",
    "        best_asks = np.append(json['asks'][0]['price'])\n",
    "    else:\n",
    "        best_asks = np.append(0)\n",
    "        \n",
    "    time.sleep(1)\n",
    "    count += 1\n",
    "\n",
    "plt.plot(last)\n",
    "plt.plot(best_asks)\n",
    "plt.plot(best_bids)\n",
    "plt.show()     \n",
    "\n"
   ]
  },
  {
   "cell_type": "code",
   "execution_count": null,
   "metadata": {
    "collapsed": true
   },
   "outputs": [],
   "source": []
  }
 ],
 "metadata": {
  "kernelspec": {
   "display_name": "Python 3",
   "language": "python",
   "name": "python3"
  },
  "language_info": {
   "codemirror_mode": {
    "name": "ipython",
    "version": 3
   },
   "file_extension": ".py",
   "mimetype": "text/x-python",
   "name": "python",
   "nbconvert_exporter": "python",
   "pygments_lexer": "ipython3",
   "version": "3.4.3"
  }
 },
 "nbformat": 4,
 "nbformat_minor": 0
}
